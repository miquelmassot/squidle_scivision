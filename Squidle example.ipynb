{
 "cells": [
  {
   "cell_type": "code",
   "execution_count": 1,
   "id": "daea7d68",
   "metadata": {},
   "outputs": [],
   "source": [
    "import scivision\n",
    "from scivision import default_catalog, load_pretrained_model\n",
    "from scivision.io import load_dataset, load_pretrained_model\n",
    "import intake"
   ]
  },
  {
   "cell_type": "code",
   "execution_count": 2,
   "id": "464543e5",
   "metadata": {},
   "outputs": [
    {
     "name": "stdout",
     "output_type": "stream",
     "text": [
      "sources:\n",
      "  squidle_csv:\n",
      "      description: Exported Squidle CSV file\n",
      "      driver: squidle_csv\n",
      "      args:\n",
      "        urlpath: '{{ CATALOG_DIR }}/../annotations-uid12-SHR_AE2000_3000samples-artificial_objects-453-points.csv'\n",
      "        image_url_column_header: 'media_path'"
     ]
    }
   ],
   "source": [
    "%cat .scivision/data.yml"
   ]
  },
  {
   "cell_type": "code",
   "execution_count": 3,
   "id": "c0e5c1a2",
   "metadata": {},
   "outputs": [
    {
     "data": {
      "application/yaml": "data:\n  args:\n    path: .scivision/data.yml\n  description: ''\n  driver: intake.catalog.local.YAMLFileCatalog\n  metadata: {}\n",
      "text/plain": [
       "data:\n",
       "  args:\n",
       "    path: .scivision/data.yml\n",
       "  description: ''\n",
       "  driver: intake.catalog.local.YAMLFileCatalog\n",
       "  metadata: {}\n"
      ]
     },
     "metadata": {
      "application/json": {
       "root": "data"
      }
     },
     "output_type": "display_data"
    }
   ],
   "source": [
    "cat = load_dataset('')\n",
    "cat\n",
    "# surprisingly, no mention to squidle_csv in the structure? \n",
    "# how are we supposed to know?"
   ]
  },
  {
   "cell_type": "code",
   "execution_count": 4,
   "id": "f173da4b",
   "metadata": {},
   "outputs": [
    {
     "name": "stdout",
     "output_type": "stream",
     "text": [
      "['squidle_csv']\n"
     ]
    }
   ],
   "source": [
    "print([i for i in cat.keys()])"
   ]
  },
  {
   "cell_type": "code",
   "execution_count": 5,
   "id": "7fb72b1a",
   "metadata": {
    "scrolled": false
   },
   "outputs": [
    {
     "name": "stdout",
     "output_type": "stream",
     "text": [
      "sources:\n",
      "  squidle_csv:\n",
      "    args:\n",
      "      image_url_column_header: media_path\n",
      "      urlpath: /home/miquel/git/squidle_scivision/.scivision//../annotations-uid12-SHR_AE2000_3000samples-artificial_objects-453-points.csv\n",
      "    description: Exported Squidle CSV file\n",
      "    driver: squidle_scivision.csv.SquidleCSVSource\n",
      "    metadata:\n",
      "      catalog_dir: /home/miquel/git/squidle_scivision/.scivision/\n",
      "\n"
     ]
    }
   ],
   "source": [
    "dataset = cat.squidle_csv()\n",
    "print(dataset)\n",
    "\n",
    "dataset = dataset.to_dask().compute()"
   ]
  },
  {
   "cell_type": "code",
   "execution_count": 6,
   "id": "e44752c2",
   "metadata": {},
   "outputs": [
    {
     "data": {
      "text/plain": [
       "'http://soi-uos-data.storage.googleapis.com/fk180731/ae2000f/20180804_093404_20180804_143258_20180805_123456_20180809_083837_ae2000f_sx3/images/sxA180804_image0001582_FC.png '"
      ]
     },
     "execution_count": 6,
     "metadata": {},
     "output_type": "execute_result"
    }
   ],
   "source": [
    "dataset['media_path'][0]"
   ]
  },
  {
   "cell_type": "code",
   "execution_count": 7,
   "id": "bf4aeff9",
   "metadata": {},
   "outputs": [
    {
     "data": {
      "text/plain": [
       "Index(['Unnamed: 0', 'media_id', 'media_key', 'class_id', 'label_id',\n",
       "       'pose_timestamp', 'pose_lat', 'pose_lon', 'pose_alt', 'pose_dep',\n",
       "       'posedata_heading', 'posedata_roll', 'posedata_pitch', 'media_path',\n",
       "       'thm_path', 'campaign_key', 'deployment_key', 'platform', 'class_name',\n",
       "       'tags', 'comment', 'class_uuid', 'class_color', 'label_timestamp',\n",
       "       'labeler', 'x', 'y', 't', 'point_id', 'point_data', 'image'],\n",
       "      dtype='object')"
      ]
     },
     "execution_count": 7,
     "metadata": {},
     "output_type": "execute_result"
    }
   ],
   "source": [
    "dataset.keys()"
   ]
  },
  {
   "cell_type": "code",
   "execution_count": 8,
   "id": "f31a6d52",
   "metadata": {},
   "outputs": [
    {
     "data": {
      "text/plain": [
       "array([[[107, 101, 101],\n",
       "        [107, 101, 101],\n",
       "        [107, 101, 101],\n",
       "        ...,\n",
       "        [ 99,  97,  91],\n",
       "        [ 99,  97,  91],\n",
       "        [ 99,  97,  91]],\n",
       "\n",
       "       [[107, 101, 101],\n",
       "        [107, 101, 101],\n",
       "        [107, 101, 101],\n",
       "        ...,\n",
       "        [ 99,  97,  91],\n",
       "        [ 99,  97,  91],\n",
       "        [ 99,  97,  91]],\n",
       "\n",
       "       [[107, 101, 101],\n",
       "        [107, 101, 101],\n",
       "        [107, 101, 101],\n",
       "        ...,\n",
       "        [ 99,  97,  91],\n",
       "        [ 99,  97,  91],\n",
       "        [ 99,  97,  91]],\n",
       "\n",
       "       ...,\n",
       "\n",
       "       [[119, 118, 118],\n",
       "        [119, 118, 118],\n",
       "        [119, 118, 118],\n",
       "        ...,\n",
       "        [110, 109, 100],\n",
       "        [110, 109, 100],\n",
       "        [110, 109, 100]],\n",
       "\n",
       "       [[119, 118, 118],\n",
       "        [119, 118, 118],\n",
       "        [119, 118, 118],\n",
       "        ...,\n",
       "        [110, 109, 100],\n",
       "        [110, 109, 100],\n",
       "        [110, 109, 100]],\n",
       "\n",
       "       [[119, 118, 118],\n",
       "        [119, 118, 118],\n",
       "        [119, 118, 118],\n",
       "        ...,\n",
       "        [110, 109, 100],\n",
       "        [110, 109, 100],\n",
       "        [110, 109, 100]]], dtype=uint8)"
      ]
     },
     "execution_count": 8,
     "metadata": {},
     "output_type": "execute_result"
    }
   ],
   "source": [
    "dataset['image'][0]"
   ]
  }
 ],
 "metadata": {
  "kernelspec": {
   "display_name": "Python 3 (ipykernel)",
   "language": "python",
   "name": "python3"
  },
  "language_info": {
   "codemirror_mode": {
    "name": "ipython",
    "version": 3
   },
   "file_extension": ".py",
   "mimetype": "text/x-python",
   "name": "python",
   "nbconvert_exporter": "python",
   "pygments_lexer": "ipython3",
   "version": "3.9.10"
  }
 },
 "nbformat": 4,
 "nbformat_minor": 5
}
